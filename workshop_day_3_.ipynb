{
  "nbformat": 4,
  "nbformat_minor": 0,
  "metadata": {
    "colab": {
      "provenance": []
    },
    "kernelspec": {
      "name": "python3",
      "display_name": "Python 3"
    },
    "language_info": {
      "name": "python"
    }
  },
  "cells": [
    {
      "cell_type": "code",
      "execution_count": null,
      "metadata": {
        "colab": {
          "base_uri": "https://localhost:8080/"
        },
        "id": "k_d9pMaS4Ao9",
        "outputId": "9f492b1f-7d9b-4030-80d9-1a5db4207505"
      },
      "outputs": [
        {
          "output_type": "stream",
          "name": "stdout",
          "text": [
            "<class 'list'>\n"
          ]
        }
      ],
      "source": [
        "print(type([]))"
      ]
    },
    {
      "cell_type": "code",
      "source": [
        "class sample:\n",
        "  pass"
      ],
      "metadata": {
        "id": "w4VcJoS86CbS"
      },
      "execution_count": null,
      "outputs": []
    },
    {
      "cell_type": "code",
      "source": [
        "x = sample()\n"
      ],
      "metadata": {
        "id": "yQ6KO3FV6cMx"
      },
      "execution_count": null,
      "outputs": []
    },
    {
      "cell_type": "code",
      "source": [
        "print(type(x))"
      ],
      "metadata": {
        "colab": {
          "base_uri": "https://localhost:8080/"
        },
        "id": "oHwZfC0e6yEB",
        "outputId": "921844ba-2531-4aee-e8b8-500863fab37b"
      },
      "execution_count": null,
      "outputs": [
        {
          "output_type": "stream",
          "name": "stdout",
          "text": [
            "<class '__main__.sample'>\n"
          ]
        }
      ]
    },
    {
      "cell_type": "code",
      "source": [
        "class dog:\n",
        "  def __init__(self, bread):\n",
        "    self.bread = bread"
      ],
      "metadata": {
        "id": "Rs7t8R9i63Bo"
      },
      "execution_count": null,
      "outputs": []
    },
    {
      "cell_type": "code",
      "source": [
        "jerry = dog(bread='lab')\n",
        "tison = dog(bread='huskie')"
      ],
      "metadata": {
        "id": "VeplSf0t7ZnU"
      },
      "execution_count": null,
      "outputs": []
    },
    {
      "cell_type": "code",
      "source": [
        "jerry.bread"
      ],
      "metadata": {
        "colab": {
          "base_uri": "https://localhost:8080/",
          "height": 35
        },
        "id": "C5gWqM868kLx",
        "outputId": "20f9ae6d-ac95-481c-a989-c847e5fd1dfe"
      },
      "execution_count": null,
      "outputs": [
        {
          "output_type": "execute_result",
          "data": {
            "text/plain": [
              "'lab'"
            ],
            "application/vnd.google.colaboratory.intrinsic+json": {
              "type": "string"
            }
          },
          "metadata": {},
          "execution_count": 9
        }
      ]
    },
    {
      "cell_type": "code",
      "source": [
        "tison.bread"
      ],
      "metadata": {
        "colab": {
          "base_uri": "https://localhost:8080/",
          "height": 35
        },
        "id": "7yU3EHZ68u-H",
        "outputId": "26811cba-d1ba-46e3-8e7e-f2d843d17818"
      },
      "execution_count": null,
      "outputs": [
        {
          "output_type": "execute_result",
          "data": {
            "text/plain": [
              "'huskie'"
            ],
            "application/vnd.google.colaboratory.intrinsic+json": {
              "type": "string"
            }
          },
          "metadata": {},
          "execution_count": 11
        }
      ]
    },
    {
      "cell_type": "code",
      "source": [
        "class Dog:\n",
        "  species = 'Mammal'\n",
        "  def __init__(self, breed ,name):\n",
        "    self.breed = breed\n",
        "    self.name = name"
      ],
      "metadata": {
        "id": "q24WF-nP8xxK"
      },
      "execution_count": 8,
      "outputs": []
    },
    {
      "cell_type": "code",
      "source": [
        "my_dog = Dog('Lab','Jeery')"
      ],
      "metadata": {
        "id": "sWPF0sQj9nh1"
      },
      "execution_count": 9,
      "outputs": []
    },
    {
      "cell_type": "code",
      "source": [
        "my_dog.name"
      ],
      "metadata": {
        "id": "o8uOWfVl-NtU",
        "colab": {
          "base_uri": "https://localhost:8080/",
          "height": 35
        },
        "outputId": "10e3fb10-6e8b-4eee-d563-79ef65be6e78"
      },
      "execution_count": 10,
      "outputs": [
        {
          "output_type": "execute_result",
          "data": {
            "text/plain": [
              "'Jeery'"
            ],
            "application/vnd.google.colaboratory.intrinsic+json": {
              "type": "string"
            }
          },
          "metadata": {},
          "execution_count": 10
        }
      ]
    },
    {
      "cell_type": "code",
      "source": [
        "my_dog.breed"
      ],
      "metadata": {
        "id": "WjJxg6V0_Rtg",
        "colab": {
          "base_uri": "https://localhost:8080/",
          "height": 35
        },
        "outputId": "d9bd505c-2fda-4bc1-8db9-1d54c458da7a"
      },
      "execution_count": 11,
      "outputs": [
        {
          "output_type": "execute_result",
          "data": {
            "text/plain": [
              "'Lab'"
            ],
            "application/vnd.google.colaboratory.intrinsic+json": {
              "type": "string"
            }
          },
          "metadata": {},
          "execution_count": 11
        }
      ]
    },
    {
      "cell_type": "code",
      "source": [
        "my_dog.species"
      ],
      "metadata": {
        "id": "EWG5K7pI_RfB",
        "colab": {
          "base_uri": "https://localhost:8080/",
          "height": 35
        },
        "outputId": "6d2842fe-6968-408a-f31f-cbf723c13b67"
      },
      "execution_count": 12,
      "outputs": [
        {
          "output_type": "execute_result",
          "data": {
            "text/plain": [
              "'Mammal'"
            ],
            "application/vnd.google.colaboratory.intrinsic+json": {
              "type": "string"
            }
          },
          "metadata": {},
          "execution_count": 12
        }
      ]
    },
    {
      "cell_type": "code",
      "source": [
        "\n",
        "class circle:\n",
        "  pi=3.14\n",
        "  def _init_(self,radius=1):\n",
        "    self.radius=radius\n",
        "    self.area=radius * radius * circle.pi \n",
        "\n",
        "  def setRadius(self,new_radius):\n",
        "      self.radius = new_radius\n",
        "      self.area = new_radius*new_radius*self.pi\n",
        "\n",
        "  def getcircumference(self):\n",
        "        return self.radius*self.pi*2"
      ],
      "metadata": {
        "id": "qr0BvbwqF045"
      },
      "execution_count": 59,
      "outputs": []
    },
    {
      "cell_type": "code",
      "source": [
        "c1.setRadius(4)\n",
        "print('The Radius is: ', c1.radius)\n",
        "print('The Area is: ', c1.area)\n",
        "print('The Circumference is: ', c1.getcircumference())"
      ],
      "metadata": {
        "colab": {
          "base_uri": "https://localhost:8080/"
        },
        "id": "0AcvliGhBV1p",
        "outputId": "baceb53a-bcd6-4b8a-c74c-6aa490f5a630"
      },
      "execution_count": 31,
      "outputs": [
        {
          "output_type": "stream",
          "name": "stdout",
          "text": [
            "The Radius is:  4\n",
            "The Area is:  50.24\n",
            "The Circumference is:  25.12\n"
          ]
        }
      ]
    },
    {
      "cell_type": "code",
      "source": [
        "class track:\n",
        "  def __init__(self,coor1,coor2):\n",
        "    self.coor1 = coor1\n",
        "    self.coor2 = coor2\n",
        "    \n",
        "  def distance(self):\n",
        "    x1,y1 = self.coor1\n",
        "    x2,y2 = self.coor2\n",
        "    return ((x2 - x1)**2 + (y2 - y1)**2)**0.5\n",
        "      \n",
        "  def slope(self):\n",
        "   x1,y1 = self.coor1 \n",
        "   x2,y2 = self.coor2\n",
        "   return (y2 - y1)/(x2 - x1)"
      ],
      "metadata": {
        "id": "iStO2W5pChd_"
      },
      "execution_count": 83,
      "outputs": []
    },
    {
      "cell_type": "code",
      "source": [
        "c1 = (12,9)\n",
        "c2 = (3,8)"
      ],
      "metadata": {
        "id": "86aVdDZRFKBr"
      },
      "execution_count": 84,
      "outputs": []
    },
    {
      "cell_type": "code",
      "source": [
        "find = track(c1,c2)"
      ],
      "metadata": {
        "id": "naUCTusqFrVI"
      },
      "execution_count": 85,
      "outputs": []
    },
    {
      "cell_type": "code",
      "source": [
        "find.distance()"
      ],
      "metadata": {
        "colab": {
          "base_uri": "https://localhost:8080/"
        },
        "id": "m5z-aOITJxCV",
        "outputId": "c4189a49-610a-4d1c-be83-c7fca1433715"
      },
      "execution_count": 86,
      "outputs": [
        {
          "output_type": "execute_result",
          "data": {
            "text/plain": [
              "9.055385138137417"
            ]
          },
          "metadata": {},
          "execution_count": 86
        }
      ]
    },
    {
      "cell_type": "code",
      "source": [
        "find.slope()"
      ],
      "metadata": {
        "colab": {
          "base_uri": "https://localhost:8080/"
        },
        "id": "0M8kTA7OQXdu",
        "outputId": "fc5b5e83-fa21-45b0-9820-b49d21db8002"
      },
      "execution_count": 88,
      "outputs": [
        {
          "output_type": "execute_result",
          "data": {
            "text/plain": [
              "0.1111111111111111"
            ]
          },
          "metadata": {},
          "execution_count": 88
        }
      ]
    },
    {
      "cell_type": "code",
      "source": [
        "class Account:\n",
        "  def __init__(self,owner,balance=0):\n",
        "    self.owner = owner\n",
        "    self.balance = balance\n",
        "    \n",
        "    \n",
        "  def __str__(self):\n",
        "    return f'Account Owner:             {self.owner}\\nAccount balance:      ${self.balance}'\n",
        "\n",
        "\n",
        "  def deposit(self,dep_amt):\n",
        "        self.balance += dep_amt\n",
        "        print(\"Deposit Accepted\")\n",
        "\n",
        "\n",
        "  def withdraw(self,wd_amt):\n",
        "   if self.balance >= wd_amt:\n",
        "    self.balance -= wd_amt\n",
        "    print(\"Withdraw Accepted\")\n",
        "\n",
        "   else:\n",
        "    print(\"Amount Unavailabe\")\n",
        "\n",
        "\n",
        "\n",
        "\n"
      ],
      "metadata": {
        "id": "taA3kAasG9MO"
      },
      "execution_count": 70,
      "outputs": []
    },
    {
      "cell_type": "code",
      "source": [
        "acc1 = Account('Kunal',200000)"
      ],
      "metadata": {
        "id": "Ls4CEZAzMsxU"
      },
      "execution_count": 71,
      "outputs": []
    },
    {
      "cell_type": "code",
      "source": [
        "print(acc1)"
      ],
      "metadata": {
        "colab": {
          "base_uri": "https://localhost:8080/"
        },
        "id": "cJ-RobKgK-qm",
        "outputId": "a0276ef8-8156-437d-951e-ff119eae0663"
      },
      "execution_count": 72,
      "outputs": [
        {
          "output_type": "stream",
          "name": "stdout",
          "text": [
            "Account Owner:             Kunal\n",
            "Account balance:      $200000\n"
          ]
        }
      ]
    },
    {
      "cell_type": "code",
      "source": [
        "acc1.owner"
      ],
      "metadata": {
        "colab": {
          "base_uri": "https://localhost:8080/",
          "height": 35
        },
        "id": "DkTqQvQIM2v7",
        "outputId": "06503a34-d99e-4d55-8397-0799839ed2af"
      },
      "execution_count": 73,
      "outputs": [
        {
          "output_type": "execute_result",
          "data": {
            "text/plain": [
              "'Kunal'"
            ],
            "application/vnd.google.colaboratory.intrinsic+json": {
              "type": "string"
            }
          },
          "metadata": {},
          "execution_count": 73
        }
      ]
    },
    {
      "cell_type": "code",
      "source": [
        "acc1.balance"
      ],
      "metadata": {
        "colab": {
          "base_uri": "https://localhost:8080/"
        },
        "id": "-mx7F5HwM43v",
        "outputId": "63d99f5c-7b69-4363-d698-d7327b20c12d"
      },
      "execution_count": 74,
      "outputs": [
        {
          "output_type": "execute_result",
          "data": {
            "text/plain": [
              "200000"
            ]
          },
          "metadata": {},
          "execution_count": 74
        }
      ]
    },
    {
      "cell_type": "code",
      "source": [
        "acc1.deposit(500)"
      ],
      "metadata": {
        "colab": {
          "base_uri": "https://localhost:8080/"
        },
        "id": "SELSP2MNNCpA",
        "outputId": "be99176c-89cb-4fd2-bb4c-9deef566fe7a"
      },
      "execution_count": 75,
      "outputs": [
        {
          "output_type": "stream",
          "name": "stdout",
          "text": [
            "Deposit Accepted\n"
          ]
        }
      ]
    },
    {
      "cell_type": "code",
      "source": [
        "acc1.withdraw(15000)"
      ],
      "metadata": {
        "colab": {
          "base_uri": "https://localhost:8080/"
        },
        "id": "sxSOV9xiNHUb",
        "outputId": "2e51845a-a75e-445d-a530-c17273ed9234"
      },
      "execution_count": 76,
      "outputs": [
        {
          "output_type": "stream",
          "name": "stdout",
          "text": [
            "Withdraw Accepted\n"
          ]
        }
      ]
    },
    {
      "cell_type": "code",
      "source": [
        "acc1.withdraw(300000)"
      ],
      "metadata": {
        "id": "CwDayHvLNefI",
        "colab": {
          "base_uri": "https://localhost:8080/"
        },
        "outputId": "c258d7e1-bd0f-4932-e633-48f7bd6e3269"
      },
      "execution_count": 77,
      "outputs": [
        {
          "output_type": "stream",
          "name": "stdout",
          "text": [
            "Amount Unavailabe\n"
          ]
        }
      ]
    },
    {
      "cell_type": "code",
      "source": [
        "acc1.balance"
      ],
      "metadata": {
        "colab": {
          "base_uri": "https://localhost:8080/"
        },
        "id": "NPyMyvqQPMRF",
        "outputId": "77efb63a-e32b-4188-8c83-a72a6261784b"
      },
      "execution_count": 78,
      "outputs": [
        {
          "output_type": "execute_result",
          "data": {
            "text/plain": [
              "185500"
            ]
          },
          "metadata": {},
          "execution_count": 78
        }
      ]
    },
    {
      "cell_type": "code",
      "source": [],
      "metadata": {
        "id": "1K_AvdnCPSyY"
      },
      "execution_count": null,
      "outputs": []
    }
  ]
}